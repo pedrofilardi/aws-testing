{
 "cells": [
  {
   "cell_type": "code",
   "execution_count": 1,
   "metadata": {},
   "outputs": [],
   "source": [
    "import boto3\n",
    "import configparser"
   ]
  },
  {
   "cell_type": "code",
   "execution_count": 2,
   "metadata": {},
   "outputs": [],
   "source": [
    "parser = configparser.ConfigParser()\n",
    "parser.read(\"./secrets.cfg\")\n",
    "\n",
    "AWS_ACCESSS_KEY_ID = parser.get(\"aws_credentials\", \"aws_access_key_id\")\n",
    "AWS_SECRET_ACCESSS_KEY_ID = parser.get(\"aws_credentials\", \"aws_secret_access_key\")\n",
    "REGION_NAME = 'eu-west-1'"
   ]
  },
  {
   "cell_type": "code",
   "execution_count": 3,
   "metadata": {},
   "outputs": [],
   "source": [
    "dynamo_client  =  boto3.resource(service_name = 'dynamodb',region_name = REGION_NAME,\n",
    "              aws_access_key_id = AWS_ACCESSS_KEY_ID,\n",
    "              aws_secret_access_key = AWS_SECRET_ACCESSS_KEY_ID)"
   ]
  },
  {
   "cell_type": "code",
   "execution_count": 4,
   "metadata": {},
   "outputs": [],
   "source": [
    "table = dynamo_client.Table('table-pedrofilardi')"
   ]
  },
  {
   "cell_type": "code",
   "execution_count": 6,
   "metadata": {},
   "outputs": [
    {
     "data": {
      "text/plain": [
       "{'ResponseMetadata': {'RequestId': 'I0NPGGNNESEF20A28O3ICV196RVV4KQNSO5AEMVJF66Q9ASUAAJG',\n",
       "  'HTTPStatusCode': 200,\n",
       "  'HTTPHeaders': {'server': 'Server',\n",
       "   'date': 'Sat, 04 Mar 2023 09:36:15 GMT',\n",
       "   'content-type': 'application/x-amz-json-1.0',\n",
       "   'content-length': '2',\n",
       "   'connection': 'keep-alive',\n",
       "   'x-amzn-requestid': 'I0NPGGNNESEF20A28O3ICV196RVV4KQNSO5AEMVJF66Q9ASUAAJG',\n",
       "   'x-amz-crc32': '2745614147'},\n",
       "  'RetryAttempts': 0}}"
      ]
     },
     "execution_count": 6,
     "metadata": {},
     "output_type": "execute_result"
    }
   ],
   "source": [
    "table.put_item(\n",
    "   Item={\n",
    "        'DNI': 23423423452,\n",
    "        'nombre': 'Jane',\n",
    "        'apellido': 'Doe',\n",
    "       \n",
    "    }\n",
    ")"
   ]
  },
  {
   "cell_type": "code",
   "execution_count": 5,
   "metadata": {},
   "outputs": [
    {
     "name": "stdout",
     "output_type": "stream",
     "text": [
      "{'Nombre': 'Pedro', 'DNI': Decimal('1'), 'Apellido': 'Filardi'}\n"
     ]
    }
   ],
   "source": [
    "response = table.get_item(\n",
    "    Key={\n",
    "        'DNI': 1,\n",
    "    }\n",
    ")\n",
    "item = response['Item']\n",
    "print(item)\n"
   ]
  }
 ],
 "metadata": {
  "kernelspec": {
   "display_name": "red-etl",
   "language": "python",
   "name": "red-etl"
  },
  "language_info": {
   "codemirror_mode": {
    "name": "ipython",
    "version": 3
   },
   "file_extension": ".py",
   "mimetype": "text/x-python",
   "name": "python",
   "nbconvert_exporter": "python",
   "pygments_lexer": "ipython3",
   "version": "3.10.8"
  },
  "orig_nbformat": 4
 },
 "nbformat": 4,
 "nbformat_minor": 2
}
